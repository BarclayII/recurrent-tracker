{
 "cells": [
  {
   "cell_type": "code",
   "execution_count": null,
   "metadata": {
    "collapsed": false
   },
   "outputs": [],
   "source": [
    "from data_handler_new import *"
   ]
  },
  {
   "cell_type": "code",
   "execution_count": null,
   "metadata": {
    "collapsed": false
   },
   "outputs": [],
   "source": [
    "bmnist = BouncingMNIST(2, 500, 1, 100, 'train/inputs', 'train/targets', acc=0.05, scale_range=0.1, vel=0.3, clutter_move=False)"
   ]
  },
  {
   "cell_type": "code",
   "execution_count": null,
   "metadata": {
    "collapsed": false
   },
   "outputs": [],
   "source": [
    "a, lbl = bmnist.GetBatch()"
   ]
  },
  {
   "cell_type": "code",
   "execution_count": null,
   "metadata": {
    "collapsed": false
   },
   "outputs": [],
   "source": [
    "%matplotlib inline\n",
    "from matplotlib import pyplot as PL\n",
    "\n",
    "gt = open('groundtruth_rect.txt', 'w')\n",
    "\n",
    "for i in range(0, len(a[0])):\n",
    "    print(lbl[0, i])\n",
    "    fig = PL.figure()\n",
    "    fig.set_size_inches(1, 1)\n",
    "    ax = PL.Axes(fig, [0,0,1,1])\n",
    "    ax.set_axis_off()\n",
    "    fig.add_axes(ax)\n",
    "    ax.matshow(a[0, i], cmap='gray')\n",
    "    fig.savefig('img/%04d.jpg' % (i + 1))\n",
    "    PL.close(fig)\n",
    "    gt.write(\"%f\\t%f\\t%f\\t%f\\n\" % (lbl[0, i, 1] * 0.72, lbl[0, i, 0] * 0.72, (lbl[0, i, 3]+1 - lbl[0, i, 1]) * 0.72, (lbl[0, i, 2]+1 - lbl[0, i, 0]) * 0.72))\n",
    "gt.close()\n"
   ]
  },
  {
   "cell_type": "code",
   "execution_count": null,
   "metadata": {
    "collapsed": false
   },
   "outputs": [],
   "source": [
    "%matplotlib inline\n",
    "from matplotlib import pyplot as PL\n",
    "from matplotlib import animation as ANIM\n",
    "from matplotlib import patches as PATCHES\n",
    "\n",
    "import numpy as NP\n",
    "\n",
    "i = 0\n",
    "\n",
    "data = NP.load('data/rpcenter642.pkl15-data-'+str(i)+'.npy')\n",
    "lbl = NP.load('data/rpcenter642.pkl15-label-'+str(i)+'.npy')\n",
    "pred = NP.load('data/rpcenter642.pkl15-pred-'+str(i)+'.npy')\n",
    "\n",
    "fig, ax = PL.subplots()\n",
    "\n",
    "mat = ax.matshow(data[0, 0], cmap='gray', vmax=255, vmin=0)\n",
    "rect = ax.add_patch(PATCHES.Rectangle((lbl[0, 0, 1], lbl[0, 0, 0]), lbl[0,0,3]-lbl[0,0,1], lbl[0,0,2]-lbl[0,0,0], ec='red', fill=False))\n",
    "rect_pred = ax.add_patch(PATCHES.Rectangle((pred[0, 0, 1], lbl[0, 0, 0]), pred[0,0,3]-pred[0,0,1], pred[0,0,2]-pred[0,0,0], ec='yellow', fill=False))\n",
    "\n",
    "def func(data):\n",
    "    dat, lbl, p = data\n",
    "    mat.set_data(dat)\n",
    "    rect.set_y(lbl[0])\n",
    "    rect.set_x(lbl[1])\n",
    "    rect.set_height(lbl[2] - lbl[0])\n",
    "    rect.set_width(lbl[3] - lbl[1])\n",
    "    rect_pred.set_y(p[0])\n",
    "    rect_pred.set_x(p[1])\n",
    "    rect_pred.set_height(p[2] - p[0])\n",
    "    rect_pred.set_width(p[3] - p[1])\n",
    "    return mat\n",
    "\n",
    "anim = ANIM.FuncAnimation(fig, func, frames=zip(data[0], lbl[0], pred[0]), interval = 500, blit = True)\n",
    "\n",
    "anim.save('temp.mp4')"
   ]
  },
  {
   "cell_type": "code",
   "execution_count": null,
   "metadata": {
    "collapsed": false
   },
   "outputs": [],
   "source": [
    "%matplotlib inline\n",
    "import numpy as NP\n",
    "from matplotlib import pyplot as PL\n",
    "res = NP.load('50tanh4.npy')\n",
    "PL.plot(res, '-')\n",
    "PL.show()"
   ]
  },
  {
   "cell_type": "code",
   "execution_count": null,
   "metadata": {
    "collapsed": false
   },
   "outputs": [],
   "source": [
    "PL.show()"
   ]
  }
 ],
 "metadata": {
  "kernelspec": {
   "display_name": "Python 3",
   "language": "python",
   "name": "python3"
  },
  "language_info": {
   "codemirror_mode": {
    "name": "ipython",
    "version": 3
   },
   "file_extension": ".py",
   "mimetype": "text/x-python",
   "name": "python",
   "nbconvert_exporter": "python",
   "pygments_lexer": "ipython3",
   "version": "3.4.2"
  }
 },
 "nbformat": 4,
 "nbformat_minor": 0
}
